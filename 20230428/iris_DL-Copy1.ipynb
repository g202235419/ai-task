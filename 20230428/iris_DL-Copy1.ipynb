{
 "cells": [
  {
   "cell_type": "code",
   "execution_count": 19,
   "id": "120198a3",
   "metadata": {},
   "outputs": [],
   "source": [
    "import numpy as np\n",
    "import pandas as pd\n",
    "import matplotlib.pyplot as plt\n",
    "import seaborn as sns\n",
    "from sklearn.datasets import load_iris"
   ]
  },
  {
   "cell_type": "code",
   "execution_count": 20,
   "id": "12b27ce3",
   "metadata": {},
   "outputs": [],
   "source": [
    "from sklearn.datasets import load_iris\n",
    "iris = load_iris()"
   ]
  },
  {
   "cell_type": "code",
   "execution_count": 21,
   "id": "868e177b",
   "metadata": {},
   "outputs": [],
   "source": [
    "iris_features = iris.feature_names"
   ]
  },
  {
   "cell_type": "code",
   "execution_count": 22,
   "id": "f0d9ca37",
   "metadata": {},
   "outputs": [],
   "source": [
    "data = pd.DataFrame(iris.data, columns = iris_features)"
   ]
  },
  {
   "cell_type": "code",
   "execution_count": 23,
   "id": "54afa31d",
   "metadata": {},
   "outputs": [
    {
     "data": {
      "text/html": [
       "<div>\n",
       "<style scoped>\n",
       "    .dataframe tbody tr th:only-of-type {\n",
       "        vertical-align: middle;\n",
       "    }\n",
       "\n",
       "    .dataframe tbody tr th {\n",
       "        vertical-align: top;\n",
       "    }\n",
       "\n",
       "    .dataframe thead th {\n",
       "        text-align: right;\n",
       "    }\n",
       "</style>\n",
       "<table border=\"1\" class=\"dataframe\">\n",
       "  <thead>\n",
       "    <tr style=\"text-align: right;\">\n",
       "      <th></th>\n",
       "      <th>sepal length (cm)</th>\n",
       "      <th>sepal width (cm)</th>\n",
       "      <th>petal length (cm)</th>\n",
       "      <th>petal width (cm)</th>\n",
       "    </tr>\n",
       "  </thead>\n",
       "  <tbody>\n",
       "    <tr>\n",
       "      <th>0</th>\n",
       "      <td>5.1</td>\n",
       "      <td>3.5</td>\n",
       "      <td>1.4</td>\n",
       "      <td>0.2</td>\n",
       "    </tr>\n",
       "    <tr>\n",
       "      <th>1</th>\n",
       "      <td>4.9</td>\n",
       "      <td>3.0</td>\n",
       "      <td>1.4</td>\n",
       "      <td>0.2</td>\n",
       "    </tr>\n",
       "    <tr>\n",
       "      <th>2</th>\n",
       "      <td>4.7</td>\n",
       "      <td>3.2</td>\n",
       "      <td>1.3</td>\n",
       "      <td>0.2</td>\n",
       "    </tr>\n",
       "    <tr>\n",
       "      <th>3</th>\n",
       "      <td>4.6</td>\n",
       "      <td>3.1</td>\n",
       "      <td>1.5</td>\n",
       "      <td>0.2</td>\n",
       "    </tr>\n",
       "    <tr>\n",
       "      <th>4</th>\n",
       "      <td>5.0</td>\n",
       "      <td>3.6</td>\n",
       "      <td>1.4</td>\n",
       "      <td>0.2</td>\n",
       "    </tr>\n",
       "    <tr>\n",
       "      <th>...</th>\n",
       "      <td>...</td>\n",
       "      <td>...</td>\n",
       "      <td>...</td>\n",
       "      <td>...</td>\n",
       "    </tr>\n",
       "    <tr>\n",
       "      <th>145</th>\n",
       "      <td>6.7</td>\n",
       "      <td>3.0</td>\n",
       "      <td>5.2</td>\n",
       "      <td>2.3</td>\n",
       "    </tr>\n",
       "    <tr>\n",
       "      <th>146</th>\n",
       "      <td>6.3</td>\n",
       "      <td>2.5</td>\n",
       "      <td>5.0</td>\n",
       "      <td>1.9</td>\n",
       "    </tr>\n",
       "    <tr>\n",
       "      <th>147</th>\n",
       "      <td>6.5</td>\n",
       "      <td>3.0</td>\n",
       "      <td>5.2</td>\n",
       "      <td>2.0</td>\n",
       "    </tr>\n",
       "    <tr>\n",
       "      <th>148</th>\n",
       "      <td>6.2</td>\n",
       "      <td>3.4</td>\n",
       "      <td>5.4</td>\n",
       "      <td>2.3</td>\n",
       "    </tr>\n",
       "    <tr>\n",
       "      <th>149</th>\n",
       "      <td>5.9</td>\n",
       "      <td>3.0</td>\n",
       "      <td>5.1</td>\n",
       "      <td>1.8</td>\n",
       "    </tr>\n",
       "  </tbody>\n",
       "</table>\n",
       "<p>150 rows × 4 columns</p>\n",
       "</div>"
      ],
      "text/plain": [
       "     sepal length (cm)  sepal width (cm)  petal length (cm)  petal width (cm)\n",
       "0                  5.1               3.5                1.4               0.2\n",
       "1                  4.9               3.0                1.4               0.2\n",
       "2                  4.7               3.2                1.3               0.2\n",
       "3                  4.6               3.1                1.5               0.2\n",
       "4                  5.0               3.6                1.4               0.2\n",
       "..                 ...               ...                ...               ...\n",
       "145                6.7               3.0                5.2               2.3\n",
       "146                6.3               2.5                5.0               1.9\n",
       "147                6.5               3.0                5.2               2.0\n",
       "148                6.2               3.4                5.4               2.3\n",
       "149                5.9               3.0                5.1               1.8\n",
       "\n",
       "[150 rows x 4 columns]"
      ]
     },
     "execution_count": 23,
     "metadata": {},
     "output_type": "execute_result"
    }
   ],
   "source": [
    "data"
   ]
  },
  {
   "cell_type": "code",
   "execution_count": 24,
   "id": "e9748e75",
   "metadata": {},
   "outputs": [],
   "source": [
    "#Splitting the data into training and test test\n",
    "X = data.iloc[:,0:3].values\n",
    "Y = data.iloc[:,3].values\n",
    "\n",
    "from sklearn.model_selection import train_test_split\n",
    "train_data, test_data,train_targets, test_targets = train_test_split(X,Y,test_size=0.2,random_state=0) "
   ]
  },
  {
   "cell_type": "code",
   "execution_count": 25,
   "id": "7b1ee548",
   "metadata": {},
   "outputs": [
    {
     "data": {
      "text/plain": [
       "(120, 3)"
      ]
     },
     "execution_count": 25,
     "metadata": {},
     "output_type": "execute_result"
    }
   ],
   "source": [
    " train_data.shape"
   ]
  },
  {
   "cell_type": "code",
   "execution_count": 26,
   "id": "b66da515",
   "metadata": {},
   "outputs": [
    {
     "data": {
      "text/plain": [
       "(30, 3)"
      ]
     },
     "execution_count": 26,
     "metadata": {},
     "output_type": "execute_result"
    }
   ],
   "source": [
    "\n",
    " test_data.shape"
   ]
  },
  {
   "cell_type": "code",
   "execution_count": 27,
   "id": "d9cc8c7a",
   "metadata": {
    "scrolled": true
   },
   "outputs": [
    {
     "data": {
      "text/plain": [
       "array([1.8, 1.5, 0.2, 1.8, 2.2, 1.4, 0.3, 1.6, 1.5, 1.2, 2.1, 0.2, 2.3,\n",
       "       0.6, 0.2, 1. , 1.8, 2.5, 1.5, 1.8, 1.1, 2.3, 1.6, 1.1, 1.8, 1.5,\n",
       "       1.7, 1.9, 1.4, 2. , 1.6, 0.2, 1.9, 1.3, 1.3, 1.3, 1.4, 1.8, 0.2,\n",
       "       0.1, 1.9, 1.2, 0.2, 0.4, 1.5, 0.2, 1.8, 1.1, 0.3, 1.5, 2.5, 1.3,\n",
       "       0.1, 2.1, 2.3, 2.2, 2.1, 0.2, 0.2, 2. , 2.1, 0.3, 2.3, 0.2, 2. ,\n",
       "       2.1, 0.2, 0.2, 1.6, 0.3, 0.2, 0.4, 1.3, 2.3, 2.1, 0.2, 0.2, 0.2,\n",
       "       1.3, 1.4, 0.2, 0.5, 1.3, 0.4, 2.3, 1. , 2. , 1.4, 0.1, 1.8, 0.2,\n",
       "       2. , 0.3, 0.2, 1.9, 0.2, 2.4, 1.3, 1.2, 1. , 2.3, 2.3, 1.5, 1.7,\n",
       "       0.2, 1. , 2.4, 1.9, 0.2, 1.3, 1.3, 1.8, 1.3, 0.2, 0.4, 0.1, 1.8,\n",
       "       1. , 2.2, 0.2])"
      ]
     },
     "execution_count": 27,
     "metadata": {},
     "output_type": "execute_result"
    }
   ],
   "source": [
    "train_targets"
   ]
  },
  {
   "cell_type": "code",
   "execution_count": 28,
   "id": "5eb5b716",
   "metadata": {},
   "outputs": [
    {
     "data": {
      "text/plain": [
       "array([[5.1, 3.5, 1.4],\n",
       "       [4.9, 3. , 1.4],\n",
       "       [4.7, 3.2, 1.3],\n",
       "       [4.6, 3.1, 1.5],\n",
       "       [5. , 3.6, 1.4],\n",
       "       [5.4, 3.9, 1.7],\n",
       "       [4.6, 3.4, 1.4],\n",
       "       [5. , 3.4, 1.5],\n",
       "       [4.4, 2.9, 1.4],\n",
       "       [4.9, 3.1, 1.5],\n",
       "       [5.4, 3.7, 1.5],\n",
       "       [4.8, 3.4, 1.6],\n",
       "       [4.8, 3. , 1.4],\n",
       "       [4.3, 3. , 1.1],\n",
       "       [5.8, 4. , 1.2],\n",
       "       [5.7, 4.4, 1.5],\n",
       "       [5.4, 3.9, 1.3],\n",
       "       [5.1, 3.5, 1.4],\n",
       "       [5.7, 3.8, 1.7],\n",
       "       [5.1, 3.8, 1.5],\n",
       "       [5.4, 3.4, 1.7],\n",
       "       [5.1, 3.7, 1.5],\n",
       "       [4.6, 3.6, 1. ],\n",
       "       [5.1, 3.3, 1.7],\n",
       "       [4.8, 3.4, 1.9],\n",
       "       [5. , 3. , 1.6],\n",
       "       [5. , 3.4, 1.6],\n",
       "       [5.2, 3.5, 1.5],\n",
       "       [5.2, 3.4, 1.4],\n",
       "       [4.7, 3.2, 1.6],\n",
       "       [4.8, 3.1, 1.6],\n",
       "       [5.4, 3.4, 1.5],\n",
       "       [5.2, 4.1, 1.5],\n",
       "       [5.5, 4.2, 1.4],\n",
       "       [4.9, 3.1, 1.5],\n",
       "       [5. , 3.2, 1.2],\n",
       "       [5.5, 3.5, 1.3],\n",
       "       [4.9, 3.6, 1.4],\n",
       "       [4.4, 3. , 1.3],\n",
       "       [5.1, 3.4, 1.5],\n",
       "       [5. , 3.5, 1.3],\n",
       "       [4.5, 2.3, 1.3],\n",
       "       [4.4, 3.2, 1.3],\n",
       "       [5. , 3.5, 1.6],\n",
       "       [5.1, 3.8, 1.9],\n",
       "       [4.8, 3. , 1.4],\n",
       "       [5.1, 3.8, 1.6],\n",
       "       [4.6, 3.2, 1.4],\n",
       "       [5.3, 3.7, 1.5],\n",
       "       [5. , 3.3, 1.4],\n",
       "       [7. , 3.2, 4.7],\n",
       "       [6.4, 3.2, 4.5],\n",
       "       [6.9, 3.1, 4.9],\n",
       "       [5.5, 2.3, 4. ],\n",
       "       [6.5, 2.8, 4.6],\n",
       "       [5.7, 2.8, 4.5],\n",
       "       [6.3, 3.3, 4.7],\n",
       "       [4.9, 2.4, 3.3],\n",
       "       [6.6, 2.9, 4.6],\n",
       "       [5.2, 2.7, 3.9],\n",
       "       [5. , 2. , 3.5],\n",
       "       [5.9, 3. , 4.2],\n",
       "       [6. , 2.2, 4. ],\n",
       "       [6.1, 2.9, 4.7],\n",
       "       [5.6, 2.9, 3.6],\n",
       "       [6.7, 3.1, 4.4],\n",
       "       [5.6, 3. , 4.5],\n",
       "       [5.8, 2.7, 4.1],\n",
       "       [6.2, 2.2, 4.5],\n",
       "       [5.6, 2.5, 3.9],\n",
       "       [5.9, 3.2, 4.8],\n",
       "       [6.1, 2.8, 4. ],\n",
       "       [6.3, 2.5, 4.9],\n",
       "       [6.1, 2.8, 4.7],\n",
       "       [6.4, 2.9, 4.3],\n",
       "       [6.6, 3. , 4.4],\n",
       "       [6.8, 2.8, 4.8],\n",
       "       [6.7, 3. , 5. ],\n",
       "       [6. , 2.9, 4.5],\n",
       "       [5.7, 2.6, 3.5],\n",
       "       [5.5, 2.4, 3.8],\n",
       "       [5.5, 2.4, 3.7],\n",
       "       [5.8, 2.7, 3.9],\n",
       "       [6. , 2.7, 5.1],\n",
       "       [5.4, 3. , 4.5],\n",
       "       [6. , 3.4, 4.5],\n",
       "       [6.7, 3.1, 4.7],\n",
       "       [6.3, 2.3, 4.4],\n",
       "       [5.6, 3. , 4.1],\n",
       "       [5.5, 2.5, 4. ],\n",
       "       [5.5, 2.6, 4.4],\n",
       "       [6.1, 3. , 4.6],\n",
       "       [5.8, 2.6, 4. ],\n",
       "       [5. , 2.3, 3.3],\n",
       "       [5.6, 2.7, 4.2],\n",
       "       [5.7, 3. , 4.2],\n",
       "       [5.7, 2.9, 4.2],\n",
       "       [6.2, 2.9, 4.3],\n",
       "       [5.1, 2.5, 3. ],\n",
       "       [5.7, 2.8, 4.1],\n",
       "       [6.3, 3.3, 6. ],\n",
       "       [5.8, 2.7, 5.1],\n",
       "       [7.1, 3. , 5.9],\n",
       "       [6.3, 2.9, 5.6],\n",
       "       [6.5, 3. , 5.8],\n",
       "       [7.6, 3. , 6.6],\n",
       "       [4.9, 2.5, 4.5],\n",
       "       [7.3, 2.9, 6.3],\n",
       "       [6.7, 2.5, 5.8],\n",
       "       [7.2, 3.6, 6.1],\n",
       "       [6.5, 3.2, 5.1],\n",
       "       [6.4, 2.7, 5.3],\n",
       "       [6.8, 3. , 5.5],\n",
       "       [5.7, 2.5, 5. ],\n",
       "       [5.8, 2.8, 5.1],\n",
       "       [6.4, 3.2, 5.3],\n",
       "       [6.5, 3. , 5.5],\n",
       "       [7.7, 3.8, 6.7],\n",
       "       [7.7, 2.6, 6.9],\n",
       "       [6. , 2.2, 5. ],\n",
       "       [6.9, 3.2, 5.7],\n",
       "       [5.6, 2.8, 4.9],\n",
       "       [7.7, 2.8, 6.7],\n",
       "       [6.3, 2.7, 4.9],\n",
       "       [6.7, 3.3, 5.7],\n",
       "       [7.2, 3.2, 6. ],\n",
       "       [6.2, 2.8, 4.8],\n",
       "       [6.1, 3. , 4.9],\n",
       "       [6.4, 2.8, 5.6],\n",
       "       [7.2, 3. , 5.8],\n",
       "       [7.4, 2.8, 6.1],\n",
       "       [7.9, 3.8, 6.4],\n",
       "       [6.4, 2.8, 5.6],\n",
       "       [6.3, 2.8, 5.1],\n",
       "       [6.1, 2.6, 5.6],\n",
       "       [7.7, 3. , 6.1],\n",
       "       [6.3, 3.4, 5.6],\n",
       "       [6.4, 3.1, 5.5],\n",
       "       [6. , 3. , 4.8],\n",
       "       [6.9, 3.1, 5.4],\n",
       "       [6.7, 3.1, 5.6],\n",
       "       [6.9, 3.1, 5.1],\n",
       "       [5.8, 2.7, 5.1],\n",
       "       [6.8, 3.2, 5.9],\n",
       "       [6.7, 3.3, 5.7],\n",
       "       [6.7, 3. , 5.2],\n",
       "       [6.3, 2.5, 5. ],\n",
       "       [6.5, 3. , 5.2],\n",
       "       [6.2, 3.4, 5.4],\n",
       "       [5.9, 3. , 5.1]])"
      ]
     },
     "execution_count": 28,
     "metadata": {},
     "output_type": "execute_result"
    }
   ],
   "source": [
    "X"
   ]
  },
  {
   "cell_type": "code",
   "execution_count": 29,
   "id": "2d888615",
   "metadata": {},
   "outputs": [
    {
     "data": {
      "text/plain": [
       "array([0.2, 0.2, 0.2, 0.2, 0.2, 0.4, 0.3, 0.2, 0.2, 0.1, 0.2, 0.2, 0.1,\n",
       "       0.1, 0.2, 0.4, 0.4, 0.3, 0.3, 0.3, 0.2, 0.4, 0.2, 0.5, 0.2, 0.2,\n",
       "       0.4, 0.2, 0.2, 0.2, 0.2, 0.4, 0.1, 0.2, 0.2, 0.2, 0.2, 0.1, 0.2,\n",
       "       0.2, 0.3, 0.3, 0.2, 0.6, 0.4, 0.3, 0.2, 0.2, 0.2, 0.2, 1.4, 1.5,\n",
       "       1.5, 1.3, 1.5, 1.3, 1.6, 1. , 1.3, 1.4, 1. , 1.5, 1. , 1.4, 1.3,\n",
       "       1.4, 1.5, 1. , 1.5, 1.1, 1.8, 1.3, 1.5, 1.2, 1.3, 1.4, 1.4, 1.7,\n",
       "       1.5, 1. , 1.1, 1. , 1.2, 1.6, 1.5, 1.6, 1.5, 1.3, 1.3, 1.3, 1.2,\n",
       "       1.4, 1.2, 1. , 1.3, 1.2, 1.3, 1.3, 1.1, 1.3, 2.5, 1.9, 2.1, 1.8,\n",
       "       2.2, 2.1, 1.7, 1.8, 1.8, 2.5, 2. , 1.9, 2.1, 2. , 2.4, 2.3, 1.8,\n",
       "       2.2, 2.3, 1.5, 2.3, 2. , 2. , 1.8, 2.1, 1.8, 1.8, 1.8, 2.1, 1.6,\n",
       "       1.9, 2. , 2.2, 1.5, 1.4, 2.3, 2.4, 1.8, 1.8, 2.1, 2.4, 2.3, 1.9,\n",
       "       2.3, 2.5, 2.3, 1.9, 2. , 2.3, 1.8])"
      ]
     },
     "execution_count": 29,
     "metadata": {},
     "output_type": "execute_result"
    }
   ],
   "source": [
    "Y"
   ]
  },
  {
   "cell_type": "code",
   "execution_count": 30,
   "id": "0f93fe1a",
   "metadata": {},
   "outputs": [],
   "source": [
    "mean = train_data.mean(axis=0)\n",
    "train_data -= mean\n",
    "std = train_data.std(axis=0)\n",
    "train_data /= std\n",
    "\n",
    "test_data -= mean\n",
    "test_data /= std"
   ]
  },
  {
   "cell_type": "code",
   "execution_count": 32,
   "id": "e519337c",
   "metadata": {},
   "outputs": [
    {
     "name": "stdout",
     "output_type": "stream",
     "text": [
      "Model: \"sequential_5\"\n",
      "_________________________________________________________________\n",
      " Layer (type)                Output Shape              Param #   \n",
      "=================================================================\n",
      " dense_12 (Dense)            (None, 64)                256       \n",
      "                                                                 \n",
      " dense_13 (Dense)            (None, 64)                4160      \n",
      "                                                                 \n",
      " dense_14 (Dense)            (None, 1)                 65        \n",
      "                                                                 \n",
      "=================================================================\n",
      "Total params: 4,481\n",
      "Trainable params: 4,481\n",
      "Non-trainable params: 0\n",
      "_________________________________________________________________\n"
     ]
    }
   ],
   "source": [
    "from keras import models\n",
    "from keras import layers\n",
    "\n",
    "def build_model(): \n",
    "    model = models.Sequential()\n",
    "    model.add(layers.Dense(64, activation='relu',input_shape=(train_data.shape[1],)))\n",
    "    model.add(layers.Dense(64, activation='relu'))\n",
    "    model.add(layers.Dense(1))\n",
    "    model.compile(optimizer='rmsprop', loss='mse', metrics=['mae'])\n",
    "    return model\n",
    "\n",
    "model = build_model() \n",
    "model.summary()"
   ]
  },
  {
   "cell_type": "code",
   "execution_count": null,
   "id": "8b172fe4",
   "metadata": {},
   "outputs": [],
   "source": [
    "model.fit(train_data, train_targets, epochs=80, batch_size=16, verbose=0)\n",
    "test_mse_score, test_mae_score = model.evaluate(test_data, test_targets)"
   ]
  },
  {
   "cell_type": "code",
   "execution_count": null,
   "id": "4a65f584",
   "metadata": {},
   "outputs": [],
   "source": [
    "test_mae_score"
   ]
  }
 ],
 "metadata": {
  "kernelspec": {
   "display_name": "Python 3 (ipykernel)",
   "language": "python",
   "name": "python3"
  },
  "language_info": {
   "codemirror_mode": {
    "name": "ipython",
    "version": 3
   },
   "file_extension": ".py",
   "mimetype": "text/x-python",
   "name": "python",
   "nbconvert_exporter": "python",
   "pygments_lexer": "ipython3",
   "version": "3.9.13"
  }
 },
 "nbformat": 4,
 "nbformat_minor": 5
}
